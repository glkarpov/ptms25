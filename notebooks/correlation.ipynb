{
 "cells": [
  {
   "cell_type": "code",
   "execution_count": null,
   "id": "7fcd1a2e-5ab8-464c-a220-73aaf2df7f07",
   "metadata": {},
   "outputs": [],
   "source": [
    "import math\n",
    "import numpy as np\n",
    "from matplotlib import pyplot as plt\n",
    "from scipy.stats import chi2, t, norm, beta, uniform"
   ]
  },
  {
   "cell_type": "code",
   "execution_count": null,
   "id": "b42087f2-0c4f-4e5a-80ee-fbb73a2c3f2d",
   "metadata": {},
   "outputs": [],
   "source": [
    "vals = np.arange(360)\n",
    "vals = 2 * np.pi * vals / 360\n",
    "\n",
    "probs = np.ones(360) * (1 / 360)"
   ]
  },
  {
   "cell_type": "code",
   "execution_count": null,
   "id": "adbb61ea-8ff0-466c-b7ff-6aa01620f821",
   "metadata": {},
   "outputs": [],
   "source": [
    "sample = np.random.choice(vals, 2000, p=probs)"
   ]
  },
  {
   "cell_type": "code",
   "execution_count": null,
   "id": "1be4b86e-881d-41cf-9cb2-747af8b11f50",
   "metadata": {},
   "outputs": [],
   "source": [
    "X = np.cos(sample)\n",
    "Y = np.sin(sample)"
   ]
  },
  {
   "cell_type": "code",
   "execution_count": null,
   "id": "2c124837-6b36-4139-a25a-47c596406cbe",
   "metadata": {},
   "outputs": [],
   "source": [
    "plt.scatter(X,Y)"
   ]
  },
  {
   "cell_type": "code",
   "execution_count": null,
   "id": "24b269e1-05f6-42d1-9983-4a3ffa9c6775",
   "metadata": {},
   "outputs": [],
   "source": [
    "np.cov(X,Y)"
   ]
  },
  {
   "cell_type": "code",
   "execution_count": null,
   "id": "9852ac71-6a84-4eb8-81b9-fb75529eeef8",
   "metadata": {},
   "outputs": [],
   "source": [
    "x_vals = np.arange(20)\n",
    "x_probs = np.ones(20) * (1 / 20)\n",
    "u_vals = np.array((0.0, 0.8, 1.2, -0.9, -1.5))\n",
    "u_probs = np.ones(5) * (1 / 5)\n",
    "sample_x = np.random.choice(x_vals, 200, p=x_probs)\n",
    "sample_u = np.random.choice(u_vals, 200, p=u_probs)\n",
    "\n",
    "sample_y = sample_x + sample_u"
   ]
  },
  {
   "cell_type": "code",
   "execution_count": null,
   "id": "426a4eb2-6c2e-46c6-befc-3f4b39c48e82",
   "metadata": {},
   "outputs": [],
   "source": [
    "plt.scatter(sample_x, sample_y)"
   ]
  },
  {
   "cell_type": "code",
   "execution_count": null,
   "id": "3021f3b8-a651-489a-a76b-811764e5e931",
   "metadata": {},
   "outputs": [],
   "source": [
    "np.corrcoef(sample_x,sample_y)"
   ]
  },
  {
   "cell_type": "code",
   "execution_count": null,
   "id": "190e2544-fcb3-4051-9e99-d00cfcb1636b",
   "metadata": {},
   "outputs": [],
   "source": []
  }
 ],
 "metadata": {
  "kernelspec": {
   "display_name": "Python 3 (ipykernel)",
   "language": "python",
   "name": "python3"
  },
  "language_info": {
   "codemirror_mode": {
    "name": "ipython",
    "version": 3
   },
   "file_extension": ".py",
   "mimetype": "text/x-python",
   "name": "python",
   "nbconvert_exporter": "python",
   "pygments_lexer": "ipython3",
   "version": "3.10.13"
  }
 },
 "nbformat": 4,
 "nbformat_minor": 5
}
