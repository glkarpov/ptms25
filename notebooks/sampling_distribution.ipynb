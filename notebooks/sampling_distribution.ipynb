{
 "cells": [
  {
   "cell_type": "code",
   "execution_count": null,
   "id": "5b82b8f2",
   "metadata": {},
   "outputs": [],
   "source": [
    "import numpy as np\n",
    "import seaborn as sns\n",
    "import scipy.stats as stats\n",
    "from matplotlib import pyplot as plt"
   ]
  },
  {
   "cell_type": "markdown",
   "id": "50bd21c7",
   "metadata": {},
   "source": [
    "## Sampling distribution"
   ]
  },
  {
   "cell_type": "markdown",
   "id": "daf42b5c",
   "metadata": {},
   "source": [
    "### The first example: sample of dice rolls"
   ]
  },
  {
   "cell_type": "code",
   "execution_count": null,
   "id": "32c695b6",
   "metadata": {},
   "outputs": [],
   "source": [
    "n_draws = 100\n",
    "sample_size = 100\n",
    "r = stats.randint(1,7)\n",
    "mu = r.mean()\n",
    "var = r.var()\n",
    "sample_mean_realizations = np.empty(n_draws)\n",
    "rv_realizations = np.empty(n_draws)\n",
    "\n",
    "\n",
    "for i in range(n_draws):\n",
    "    sample_realization = r.rvs(size=sample_size)\n",
    "    sample_mean_realizations[i] = np.mean(sample_realization)\n",
    "    rv_realizations[i] = r.rvs()"
   ]
  },
  {
   "cell_type": "markdown",
   "id": "d3766ca3",
   "metadata": {},
   "source": [
    "What do you see on the following picture?\n",
    "\n",
    "This is a visual representation of the fact that each function from the sample, e.g. sample mean, also has a random nature! And each time you generate new sample, the value of the chosen function will be different.\n",
    "\n",
    "Try to change ```sample_size``` variable and see what happens."
   ]
  },
  {
   "cell_type": "code",
   "execution_count": null,
   "id": "e700155f",
   "metadata": {},
   "outputs": [],
   "source": [
    "fig, (ax1, ax2) = plt.subplots(nrows=2, ncols=1, figsize=(12, 8))\n",
    "ax1.scatter(np.arange(n_draws), rv_realizations, label=r'single RV realization, $x$')\n",
    "ax1.axhline(r.mean(), color='green', label = 'True mean')\n",
    "ax2.scatter(np.arange(n_draws), sample_mean_realizations, label=r'Sample mean realization, $\\bar{x}$')\n",
    "ax2.axhline(r.mean(), color='green', label = 'True mean')\n",
    "ax1.legend()\n",
    "ax2.legend()\n",
    "ax1.set_title(r'Different random realizations of a single random variable $X$')\n",
    "ax2.set_title(r'Different random realizations of sample mean $\\bar{X}$, sample size = %d' % sample_size)\n",
    "plt.show()"
   ]
  },
  {
   "cell_type": "markdown",
   "id": "e3513aa8",
   "metadata": {},
   "source": [
    "If on the previous picture we present just a few different realiations, in the following we generate much more samples and try to approximate the probability density function by plotting a histogram.\n",
    "\n",
    "As well, try to change ```sample_size``` in below and see what happens with the histogram."
   ]
  },
  {
   "cell_type": "code",
   "execution_count": null,
   "id": "1e56f420",
   "metadata": {},
   "outputs": [],
   "source": [
    "n_draws = 10000\n",
    "sample_size = 10\n",
    "n_bins = 50\n",
    "r = stats.randint(1,7)\n",
    "sample_mean_realizations = np.empty(n_draws)\n",
    "rv_realizations = np.empty(n_draws)\n",
    "\n",
    "for i in range(n_draws):\n",
    "    sample_realization = r.rvs(size=sample_size)\n",
    "    sample_mean_realizations[i] = np.mean(sample_realization)\n",
    "    rv_realizations[i] = r.rvs()"
   ]
  },
  {
   "cell_type": "code",
   "execution_count": null,
   "id": "63544f2f",
   "metadata": {},
   "outputs": [],
   "source": [
    "fig, (ax1, ax2) = plt.subplots(nrows=2, ncols=1, figsize=(12, 8))\n",
    "\n",
    "sns.histplot(rv_realizations, bins=n_bins, ax=ax1).grid()\n",
    "\n",
    "sns.histplot(sample_mean_realizations, bins=n_bins, ax=ax2).grid()\n",
    "counts, _, _ = plt.hist(sample_mean_realizations, bins=n_bins, alpha=0.0)  # just in order to find out the scaling coefficient for PDF\n",
    "plt.title('Histogram for standard normal variable')\n",
    "#     plt.axvline(x=np.mean(z), label='Mean of Sample Means')\n",
    "\n",
    "# scaling of normal PDF is needed, because histogram has large values on y-axis, and we need to fit them\n",
    "x_space = np.linspace(mu - 3 * var,  mu + 3 * var, 1000)\n",
    "ax2.plot(x_space, np.max(counts) * stats.norm.pdf(x_space, mu, np.sqrt(var / sample_size)) * np.sqrt(2 * np.pi * var / sample_size), label='Normal density')\n",
    "ax1.legend()\n",
    "ax2.legend()\n",
    "ax1.set_title('Histogram for realizations of a single RV')\n",
    "ax2.set_title(r'Histogram for realizations of sample mean $\\bar{X}$, sample size = %d' % sample_size)\n",
    "plt.show()"
   ]
  },
  {
   "cell_type": "markdown",
   "id": "35ca4851",
   "metadata": {},
   "source": [
    "### The second example: sampling from normal distribution"
   ]
  },
  {
   "cell_type": "code",
   "execution_count": null,
   "id": "38f45daa",
   "metadata": {},
   "outputs": [],
   "source": [
    "r = stats.norm(5, 2)\n",
    "n_draws = 100\n",
    "sample_size = 2\n",
    "mu = r.mean()\n",
    "var = r.var()\n",
    "std = r.std()\n",
    "sample_mean_realizations = np.empty(n_draws)\n",
    "rv_realizations = np.empty(n_draws)\n",
    "\n",
    "\n",
    "for i in range(n_draws):\n",
    "    sample_realization = r.rvs(size=sample_size)\n",
    "    sample_mean_realizations[i] = np.mean(sample_realization)\n",
    "    rv_realizations[i] = r.rvs()"
   ]
  },
  {
   "cell_type": "code",
   "execution_count": null,
   "id": "c4e2936b",
   "metadata": {},
   "outputs": [],
   "source": [
    "fig, (ax1, ax2) = plt.subplots(nrows=2, ncols=1, figsize=(12, 8))\n",
    "ax1.scatter(np.arange(n_draws), rv_realizations, label=r'single RV realization, $x$')\n",
    "ax1.axhline(r.mean(), color='green', label = 'True mean')\n",
    "ax1.axhline(r.mean() + std, color='blue', label = r'$\\mu + \\sigma$')\n",
    "ax1.axhline(r.mean() - std, color='blue', label = r'$\\mu - \\sigma$')\n",
    "\n",
    "ax2.scatter(np.arange(n_draws), sample_mean_realizations, label=r'Sample mean realization, $\\bar{x}$')\n",
    "ax2.axhline(r.mean(), color='green', label = 'True mean')\n",
    "ax2.axhline(r.mean() + std, color='blue', label = r'$\\mu + \\sigma$')\n",
    "ax2.axhline(r.mean() - std, color='blue', label = r'$\\mu - \\sigma$')\n",
    "ax1.legend(loc='best')\n",
    "ax2.legend(loc='best')\n",
    "ax1.set_title(r'Different random realizations of a single random variable $X \\sim N$({},{})'.format(mu,var))\n",
    "ax2.set_title(r'Different random realizations of sample mean $\\bar{X}$, sample size = %d' % sample_size)\n",
    "plt.show()"
   ]
  },
  {
   "cell_type": "code",
   "execution_count": null,
   "id": "58afecbd",
   "metadata": {},
   "outputs": [],
   "source": [
    "n_draws = 10000\n",
    "sample_size = 30\n",
    "n_bins = 50\n",
    "sample_mean_realizations = np.empty(n_draws)\n",
    "rv_realizations = np.empty(n_draws)\n",
    "\n",
    "for i in range(n_draws):\n",
    "    sample_realization = r.rvs(size=sample_size)\n",
    "    sample_mean_realizations[i] = np.mean(sample_realization)\n",
    "    rv_realizations[i] = r.rvs()"
   ]
  },
  {
   "cell_type": "code",
   "execution_count": null,
   "id": "abc5dd9c",
   "metadata": {},
   "outputs": [],
   "source": [
    "fig, (ax1, ax2) = plt.subplots(nrows=2, ncols=1, figsize=(12, 8))\n",
    "\n",
    "sns.histplot(rv_realizations, bins=n_bins, ax=ax1).grid()\n",
    "\n",
    "sns.histplot(sample_mean_realizations, bins=n_bins, ax=ax2).grid()\n",
    "counts, _, _ = plt.hist(sample_mean_realizations, bins=n_bins, alpha=0.0)  # just in order to find out the scaling coefficient for PDF\n",
    "plt.title('Histogram for standard normal variable')\n",
    "#     plt.axvline(x=np.mean(z), label='Mean of Sample Means')\n",
    "\n",
    "# scaling of normal PDF is needed, because histogram has large values on y-axis, and we need to fit them\n",
    "x_space = np.linspace(mu - 3 * var,  mu + 3 * var, 1000)\n",
    "ax2.plot(x_space, np.max(counts) * stats.norm.pdf(x_space, mu, np.sqrt(var / sample_size)) * np.sqrt(2 * np.pi * var / sample_size), label='Normal density')\n",
    "ax1.legend()\n",
    "ax2.legend()\n",
    "ax1.set_title('Histogram for realizations of a single RV')\n",
    "ax2.set_title(r'Histogram for realizations of sample mean $\\bar{X}$, sample size = %d' % sample_size)\n",
    "plt.show()"
   ]
  },
  {
   "cell_type": "code",
   "execution_count": null,
   "id": "a2665b41-d9c1-48a1-b147-b8794331cd2c",
   "metadata": {},
   "outputs": [],
   "source": []
  }
 ],
 "metadata": {
  "kernelspec": {
   "display_name": "Python 3 (ipykernel)",
   "language": "python",
   "name": "python3"
  },
  "language_info": {
   "codemirror_mode": {
    "name": "ipython",
    "version": 3
   },
   "file_extension": ".py",
   "mimetype": "text/x-python",
   "name": "python",
   "nbconvert_exporter": "python",
   "pygments_lexer": "ipython3",
   "version": "3.10.13"
  }
 },
 "nbformat": 4,
 "nbformat_minor": 5
}
